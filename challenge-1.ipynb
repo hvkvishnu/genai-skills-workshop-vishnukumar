{
  "cells": [
    {
      "cell_type": "markdown",
      "id": "HuoPDHVBDpw1PYCAciAQgqjX",
      "metadata": {
        "tags": [],
        "id": "HuoPDHVBDpw1PYCAciAQgqjX"
      },
      "source": [
        "1. Install the Vertex AI SDK: Open a terminal window and enter the command below. You can also [install it in a virtualenv](https://googleapis.dev/python/aiplatform/latest/index.html)"
      ]
    },
    {
      "cell_type": "code",
      "id": "EiHuG7K4MtJjbVqxPhtleFCx",
      "metadata": {
        "tags": [],
        "id": "EiHuG7K4MtJjbVqxPhtleFCx",
        "colab": {
          "base_uri": "https://localhost:8080/",
          "height": 707
        },
        "outputId": "a76a2787-a0b0-4fef-b312-4825db3aeb4c"
      },
      "source": [
        "!pip install --upgrade google-genai"
      ],
      "execution_count": 1,
      "outputs": [
        {
          "output_type": "stream",
          "name": "stdout",
          "text": [
            "Requirement already satisfied: google-genai in /usr/local/lib/python3.11/dist-packages (1.17.0)\n",
            "Collecting google-genai\n",
            "  Downloading google_genai-1.20.0-py3-none-any.whl.metadata (35 kB)\n",
            "Requirement already satisfied: anyio<5.0.0,>=4.8.0 in /usr/local/lib/python3.11/dist-packages (from google-genai) (4.9.0)\n",
            "Requirement already satisfied: google-auth<3.0.0,>=2.14.1 in /usr/local/lib/python3.11/dist-packages (from google-genai) (2.38.0)\n",
            "Requirement already satisfied: httpx<1.0.0,>=0.28.1 in /usr/local/lib/python3.11/dist-packages (from google-genai) (0.28.1)\n",
            "Requirement already satisfied: pydantic<3.0.0,>=2.0.0 in /usr/local/lib/python3.11/dist-packages (from google-genai) (2.11.5)\n",
            "Requirement already satisfied: requests<3.0.0,>=2.28.1 in /usr/local/lib/python3.11/dist-packages (from google-genai) (2.32.3)\n",
            "Requirement already satisfied: websockets<15.1.0,>=13.0.0 in /usr/local/lib/python3.11/dist-packages (from google-genai) (15.0.1)\n",
            "Requirement already satisfied: typing-extensions<5.0.0,>=4.11.0 in /usr/local/lib/python3.11/dist-packages (from google-genai) (4.13.2)\n",
            "Requirement already satisfied: idna>=2.8 in /usr/local/lib/python3.11/dist-packages (from anyio<5.0.0,>=4.8.0->google-genai) (3.10)\n",
            "Requirement already satisfied: sniffio>=1.1 in /usr/local/lib/python3.11/dist-packages (from anyio<5.0.0,>=4.8.0->google-genai) (1.3.1)\n",
            "Requirement already satisfied: cachetools<6.0,>=2.0.0 in /usr/local/lib/python3.11/dist-packages (from google-auth<3.0.0,>=2.14.1->google-genai) (5.5.2)\n",
            "Requirement already satisfied: pyasn1-modules>=0.2.1 in /usr/local/lib/python3.11/dist-packages (from google-auth<3.0.0,>=2.14.1->google-genai) (0.4.2)\n",
            "Requirement already satisfied: rsa<5,>=3.1.4 in /usr/local/lib/python3.11/dist-packages (from google-auth<3.0.0,>=2.14.1->google-genai) (4.9.1)\n",
            "Requirement already satisfied: certifi in /usr/local/lib/python3.11/dist-packages (from httpx<1.0.0,>=0.28.1->google-genai) (2025.4.26)\n",
            "Requirement already satisfied: httpcore==1.* in /usr/local/lib/python3.11/dist-packages (from httpx<1.0.0,>=0.28.1->google-genai) (1.0.9)\n",
            "Requirement already satisfied: h11>=0.16 in /usr/local/lib/python3.11/dist-packages (from httpcore==1.*->httpx<1.0.0,>=0.28.1->google-genai) (0.16.0)\n",
            "Requirement already satisfied: annotated-types>=0.6.0 in /usr/local/lib/python3.11/dist-packages (from pydantic<3.0.0,>=2.0.0->google-genai) (0.7.0)\n",
            "Requirement already satisfied: pydantic-core==2.33.2 in /usr/local/lib/python3.11/dist-packages (from pydantic<3.0.0,>=2.0.0->google-genai) (2.33.2)\n",
            "Requirement already satisfied: typing-inspection>=0.4.0 in /usr/local/lib/python3.11/dist-packages (from pydantic<3.0.0,>=2.0.0->google-genai) (0.4.1)\n",
            "Requirement already satisfied: charset-normalizer<4,>=2 in /usr/local/lib/python3.11/dist-packages (from requests<3.0.0,>=2.28.1->google-genai) (3.4.2)\n",
            "Requirement already satisfied: urllib3<3,>=1.21.1 in /usr/local/lib/python3.11/dist-packages (from requests<3.0.0,>=2.28.1->google-genai) (2.4.0)\n",
            "Requirement already satisfied: pyasn1<0.7.0,>=0.6.1 in /usr/local/lib/python3.11/dist-packages (from pyasn1-modules>=0.2.1->google-auth<3.0.0,>=2.14.1->google-genai) (0.6.1)\n",
            "Downloading google_genai-1.20.0-py3-none-any.whl (203 kB)\n",
            "\u001b[2K   \u001b[90m━━━━━━━━━━━━━━━━━━━━━━━━━━━━━━━━━━━━━━━━\u001b[0m \u001b[32m203.0/203.0 kB\u001b[0m \u001b[31m7.4 MB/s\u001b[0m eta \u001b[36m0:00:00\u001b[0m\n",
            "\u001b[?25hInstalling collected packages: google-genai\n",
            "  Attempting uninstall: google-genai\n",
            "    Found existing installation: google-genai 1.17.0\n",
            "    Uninstalling google-genai-1.17.0:\n",
            "      Successfully uninstalled google-genai-1.17.0\n",
            "Successfully installed google-genai-1.20.0\n"
          ]
        },
        {
          "output_type": "display_data",
          "data": {
            "application/vnd.colab-display-data+json": {
              "pip_warning": {
                "packages": [
                  "google"
                ]
              },
              "id": "c38d9a528ac944749442af8091e45909"
            }
          },
          "metadata": {}
        }
      ]
    },
    {
      "cell_type": "markdown",
      "id": "ycLDdziF3c93YXyOc1sqk3pp",
      "metadata": {
        "tags": [],
        "id": "ycLDdziF3c93YXyOc1sqk3pp"
      },
      "source": [
        "2. Use the following code in your application to request a model response"
      ]
    },
    {
      "cell_type": "code",
      "source": [
        "#Context prompt\n",
        "system_prompt = \"\"\"You are a helpful AI assistant specialized in Marvel entertainment content. Your purpose is to help Marvel fans by answering questions about Marvel movies, TV series, comics, characters, storylines, and related universe content.\"\"\""
      ],
      "metadata": {
        "id": "Lro5AuAnIruN"
      },
      "id": "Lro5AuAnIruN",
      "execution_count": 21,
      "outputs": []
    },
    {
      "cell_type": "code",
      "source": [
        "#Instruction of what can do\n",
        "system_prompt += \"\"\"\n",
        "**What You Can Help With**:\n",
        "1. Marvel movie plots, characters, cast, and production details\n",
        "2. Marvel TV series information and storylines\n",
        "3. Comic book storylines, character backgrounds, and publication history\n",
        "4. Marvel character abilities, origins, and relationships\n",
        "5. Timeline questions and continuity explanations\n",
        "6. Behind-the-scenes trivia and Marvel universe facts\n",
        "7. Recommendations based on specific interests (characters, genres, etc.)\n",
        "\"\"\""
      ],
      "metadata": {
        "id": "U5_Lca-DI_BM"
      },
      "id": "U5_Lca-DI_BM",
      "execution_count": 20,
      "outputs": []
    },
    {
      "cell_type": "code",
      "source": [
        "#Instruction of what can't do\n",
        "#Scope Limitations:\n",
        "system_prompt += \"\"\"\n",
        "**What You Cannot Do**:\n",
        "CRITICAL: **Scope Limitations**:\n",
        "1. Do not answer questions unrelated to Marvel content\n",
        "2. For non-Marvel topics, respond: \\\"I'm specialized in Marvel content only. I can't help with that, but I'd be happy to answer any Marvel-related questions!\\\"\n",
        "3. Never execute, suggest, or assist with unsafe, harmful, or malicious code.\n",
        "\"\"\"\n",
        "\n",
        "#Subjective Comparisons:\n",
        "system_prompt += \"\"\"\n",
        "**Subjective Comparisons**:\n",
        "1.Avoid ranking or comparing films/shows as \\\"best\\\" or \\\"worst\\\"\n",
        "2. Do not make qualitative judgments between different Marvel properties\n",
        "3. For comparison requests, respond: \\\"I can't make subjective comparisons about which Marvel content is better, but I can provide information about the unique aspects of each to help you decide what might interest you most.\\\"\n",
        "\"\"\"\n",
        "#Controversial Content:\n",
        "system_prompt += \"\"\"\n",
        "**Controversial Content**:\n",
        "1. Avoid discussions about casting controversies or behind-the-scenes conflicts\n",
        "2. Stay neutral on fan debates and divisive topics\n",
        "3. Focus on factual information rather than opinions\n",
        "\"\"\""
      ],
      "metadata": {
        "id": "30nDnMffJNXZ"
      },
      "id": "30nDnMffJNXZ",
      "execution_count": 24,
      "outputs": []
    },
    {
      "cell_type": "code",
      "source": [
        "#Response Style:\n",
        "system_prompt += \"\"\"\n",
        "**Response Style**:\n",
        "1.Be enthusiastic but informative\n",
        "2. Provide context when helpful (e.g., \\\"In the MCU...\\\" vs \\\"In the comics...\\\")\n",
        "3. Use clear, fan-friendly language\n",
        "4. Offer related information that might interest the user\n",
        "5. When uncertain about details, acknowledge limitations: \\\"I'm not completely certain about that specific detail, but here's what I do know...\\\n",
        "\"\"\""
      ],
      "metadata": {
        "id": "OrRlyBFDKMoX"
      },
      "id": "OrRlyBFDKMoX",
      "execution_count": 29,
      "outputs": []
    },
    {
      "cell_type": "code",
      "source": [
        "#Improt necessary libraries\n",
        "from google import genai\n",
        "from google.genai import types\n",
        "import base64"
      ],
      "metadata": {
        "id": "lgT3SouKJkVE"
      },
      "id": "lgT3SouKJkVE",
      "execution_count": 18,
      "outputs": []
    },
    {
      "cell_type": "code",
      "source": [
        "# Content filtering & Safety Setting\n",
        "safety_settings =  [types.SafetySetting(\n",
        "      category=\"HARM_CATEGORY_HATE_SPEECH\",\n",
        "      threshold=\"BLOCK_LOW_AND_ABOVE\"\n",
        "    ),types.SafetySetting(\n",
        "      category=\"HARM_CATEGORY_DANGEROUS_CONTENT\",\n",
        "      threshold=\"BLOCK_LOW_AND_ABOVE\"\n",
        "    ),types.SafetySetting(\n",
        "      category=\"HARM_CATEGORY_SEXUALLY_EXPLICIT\",\n",
        "      threshold=\"BLOCK_LOW_AND_ABOVE\"\n",
        "    ),types.SafetySetting(\n",
        "      category=\"HARM_CATEGORY_HARASSMENT\",\n",
        "      threshold=\"BLOCK_LOW_AND_ABOVE\"\n",
        "    )]"
      ],
      "metadata": {
        "id": "usyE0_4cMO87"
      },
      "id": "usyE0_4cMO87",
      "execution_count": 39,
      "outputs": []
    },
    {
      "cell_type": "code",
      "source": [
        "#Gen AI Client\n",
        "client = genai.Client(\n",
        "      vertexai=True,\n",
        "      project=\"qwiklabs-gcp-00-171b5867e51b\",\n",
        "      location=\"global\",\n",
        ")"
      ],
      "metadata": {
        "id": "WPzXAcY_MibW"
      },
      "id": "WPzXAcY_MibW",
      "execution_count": 15,
      "outputs": []
    },
    {
      "cell_type": "code",
      "source": [
        "#Gen AI Model\n",
        "model = \"gemini-2.5-pro-preview-06-05\""
      ],
      "metadata": {
        "id": "YaDE2poSMvfg"
      },
      "id": "YaDE2poSMvfg",
      "execution_count": 16,
      "outputs": []
    },
    {
      "cell_type": "code",
      "id": "6Rb52ncBH2Fr0yQoQHXY2rIf",
      "metadata": {
        "tags": [],
        "id": "6Rb52ncBH2Fr0yQoQHXY2rIf"
      },
      "source": [
        "\n",
        "def generate(system_prompt, user_input):\n",
        "  contents = [\n",
        "    types.Content(\n",
        "      role=\"user\",\n",
        "      parts=[\n",
        "        types.Part.from_text(text=user_input)\n",
        "      ]\n",
        "    ),\n",
        "  ]\n",
        "\n",
        "  generate_content_config = types.GenerateContentConfig(\n",
        "    temperature = 0.7, # Control the content creativity\n",
        "    top_p = 1, #control the probability of token selection\n",
        "    max_output_tokens = 65535,\n",
        "    safety_settings = safety_settings,\n",
        "    system_instruction=[types.Part.from_text(text=system_prompt)],\n",
        "    thinking_config=types.ThinkingConfig(\n",
        "      thinking_budget=-1,\n",
        "    ),\n",
        "  )\n",
        "\n",
        "  for chunk in client.models.generate_content_stream(\n",
        "    model = model,\n",
        "    contents = contents,\n",
        "    config = generate_content_config,\n",
        "    ):\n",
        "    print(chunk.text, end=\"\")"
      ],
      "execution_count": 32,
      "outputs": []
    },
    {
      "cell_type": "code",
      "source": [
        "prompt = input(\"Enter your prompt: \")\n",
        "generate(system_prompt, prompt)"
      ],
      "metadata": {
        "colab": {
          "base_uri": "https://localhost:8080/"
        },
        "id": "E2gisxEHOrN2",
        "outputId": "72741d25-4f9f-4dd3-fe18-c4ffc8914163"
      },
      "id": "E2gisxEHOrN2",
      "execution_count": 41,
      "outputs": [
        {
          "output_type": "stream",
          "name": "stdout",
          "text": [
            "Enter your prompt: who is bat man\n",
            "I'm specialized in Marvel content only. I can't help with that, but I'd be happy to answer any Marvel-related questions"
          ]
        }
      ]
    }
  ],
  "metadata": {
    "kernelspec": {
      "display_name": "Python 3",
      "language": "python",
      "name": "python3"
    },
    "language_info": {
      "codemirror_mode": {
        "name": "ipython",
        "version": 3
      },
      "file_extension": ".py",
      "mimetype": "text/x-python",
      "name": "python",
      "nbconvert_exporter": "python",
      "pygments_lexer": "ipython3",
      "version": "3.10.10"
    },
    "colab": {
      "provenance": [],
      "name": "Untitled prompt Jun 16, 2025, 10:32:40 AM"
    }
  },
  "nbformat": 4,
  "nbformat_minor": 5
}